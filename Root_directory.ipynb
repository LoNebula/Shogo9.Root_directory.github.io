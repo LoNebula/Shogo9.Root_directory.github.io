{
 "cells": [
  {
   "cell_type": "code",
   "execution_count": 1,
   "metadata": {},
   "outputs": [
    {
     "name": "stdout",
     "output_type": "stream",
     "text": [
      "+--数字当てゲーム_しょうもないver/\n",
      "   +--number-guessing-game.html\n",
      "   | +--images/\n",
      "   |     +--image1.jpeg\n"
     ]
    }
   ],
   "source": [
    "import os\n",
    "\n",
    "def print_directory_tree(root_dir, padding=\"\"):\n",
    "    print(padding[:-1] + \"+--\" + os.path.basename(root_dir) + \"/\")\n",
    "    padding = padding + \"   \"\n",
    "    files = []\n",
    "    dirs = []\n",
    "    for item in os.listdir(root_dir):\n",
    "        if os.path.isfile(os.path.join(root_dir, item)):\n",
    "            files.append(item)\n",
    "        else:\n",
    "            dirs.append(item)\n",
    "    for file in files:\n",
    "        print(padding + \"+--\" + file)\n",
    "    for dir in dirs:\n",
    "        print_directory_tree(os.path.join(root_dir, dir), padding + \"|  \")\n",
    "\n",
    "root_directory = '数字当てゲーム_しょうもないver'\n",
    "print_directory_tree(root_directory)\n"
   ]
  }
 ],
 "metadata": {
  "kernelspec": {
   "display_name": "standard",
   "language": "python",
   "name": "python3"
  },
  "language_info": {
   "codemirror_mode": {
    "name": "ipython",
    "version": 3
   },
   "file_extension": ".py",
   "mimetype": "text/x-python",
   "name": "python",
   "nbconvert_exporter": "python",
   "pygments_lexer": "ipython3",
   "version": "3.10.13"
  }
 },
 "nbformat": 4,
 "nbformat_minor": 2
}
